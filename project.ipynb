{
 "cells": [
  {
   "cell_type": "markdown",
   "metadata": {},
   "source": [
    "Project:"
   ]
  },
  {
   "cell_type": "markdown",
   "metadata": {},
   "source": [
    "Creating a game:"
   ]
  },
  {
   "cell_type": "code",
   "execution_count": 5,
   "metadata": {},
   "outputs": [
    {
     "name": "stdout",
     "output_type": "stream",
     "text": [
      "YAYYYYY! Welcome to Rock, Paper, Scissors game!\n",
      " Lets Start!\n",
      "You chose: Rock\n",
      "Computer chose: Scissors\n",
      "Congratulations, You Win!\n",
      "----------------------------------------\n",
      "----------------------------------------\n",
      "You chose: Scissors\n",
      "Computer chose: Scissors\n",
      "It's a tie!\n",
      "----------------------------------------\n",
      "----------------------------------------\n",
      "You chose: Paper\n",
      "Computer chose: Rock\n",
      "Congratulations, You Win!\n",
      "----------------------------------------\n",
      "----------------------------------------\n",
      "Thank You for Playing this Game! ENDED.\n",
      "----------------------------------------\n"
     ]
    }
   ],
   "source": [
    "import random\n",
    "\n",
    "def winner(player, computer):\n",
    "    if player == computer:\n",
    "        return \"It's a tie!\"\n",
    "    elif (player == 1 and computer == 3) or \\\n",
    "         (player == 2 and computer == 1) or \\\n",
    "         (player == 3 and computer == 2):\n",
    "        return \"Congratulations, You Win!\"\n",
    "    else:\n",
    "        return \"You Lose!, Try Again.\"\n",
    "\n",
    "def Game():\n",
    "    print(\"YAYYYYY! Welcome to Rock, Paper, Scissors game!\\n Lets Start!\")\n",
    "    while True:\n",
    "        try:\n",
    "            Player_choosed = int(input(\"Enter your choice: \\nPress '1' for Rock, Press '2' for Paper, Press '3' for Scissors \\nPress '0' to Quit the Game\\n: \"))\n",
    "            if Player_choosed == 0:\n",
    "                print(\"Thank You for Playing this Game! ENDED.\")\n",
    "                print(\"-\" * 40)\n",
    "                break\n",
    "            if Player_choosed not in [1, 2, 3]:\n",
    "                print(\"This is not how u play the game! Please Press 1, 2, or 3.\")\n",
    "                print(\"-\" * 40)\n",
    "                continue\n",
    "            \n",
    "            Computer_choosed = random.randint(1, 3)\n",
    "            choices = {1: \"Rock\", 2: \"Paper\", 3: \"Scissors\"}\n",
    "\n",
    "            print(f\"You chose: {choices[Player_choosed]}\")\n",
    "            print(f\"Computer chose: {choices[Computer_choosed]}\")\n",
    "            \n",
    "            result = winner(Player_choosed, Computer_choosed)\n",
    "            print(result)\n",
    "            print(\"-\" * 40)\n",
    "            print(\"-\" * 40)\n",
    "        except ValueError:\n",
    "            print(\"Invalid input. Please enter a number.\")\n",
    "Game()"
   ]
  },
  {
   "cell_type": "code",
   "execution_count": null,
   "metadata": {},
   "outputs": [],
   "source": []
  }
 ],
 "metadata": {
  "kernelspec": {
   "display_name": "Python 3",
   "language": "python",
   "name": "python3"
  },
  "language_info": {
   "codemirror_mode": {
    "name": "ipython",
    "version": 3
   },
   "file_extension": ".py",
   "mimetype": "text/x-python",
   "name": "python",
   "nbconvert_exporter": "python",
   "pygments_lexer": "ipython3",
   "version": "3.13.0"
  }
 },
 "nbformat": 4,
 "nbformat_minor": 2
}
